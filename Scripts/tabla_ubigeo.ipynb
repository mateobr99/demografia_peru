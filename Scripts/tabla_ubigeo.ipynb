{
 "cells": [
  {
   "cell_type": "code",
   "execution_count": 17,
   "id": "73ed2a50",
   "metadata": {},
   "outputs": [
    {
     "name": "stderr",
     "output_type": "stream",
     "text": [
      "C:\\Users\\mateo\\AppData\\Local\\Temp\\ipykernel_19692\\2225157832.py:7: SettingWithCopyWarning: \n",
      "A value is trying to be set on a copy of a slice from a DataFrame.\n",
      "Try using .loc[row_indexer,col_indexer] = value instead\n",
      "\n",
      "See the caveats in the documentation: https://pandas.pydata.org/pandas-docs/stable/user_guide/indexing.html#returning-a-view-versus-a-copy\n",
      "  tabla_ubigeo['Ubigeo'] = tabla_ubigeo['Ubigeo'].astype(str).str.zfill(6)\n"
     ]
    }
   ],
   "source": [
    "import pandas as pd\n",
    "ARCHIVO_ORIGEN = r\"D:\\Mateo\\ICSI\\Proyecto\\Data\\Raw\\Poblacion\\Data\\Processing\\pob_censo_edades_sexo_2017.csv\"\n",
    "ARCHIVO_DESTINO = r\"D:\\Mateo\\ICSI\\Proyecto\\Data\\Raw\\Poblacion\\Data\\Processing\\tabla_ubigeo.csv\"\n",
    "df = pd.read_csv(ARCHIVO_ORIGEN, sep=\",\", encoding='latin1')\n",
    "columns_to_check = df.columns[:4]\n",
    "tabla_ubigeo = df[['Ubigeo' ,'Distrito', 'grupo_edad', 'sexo', 'valor', 'Anio' ]]\n",
    "tabla_ubigeo['Ubigeo'] = tabla_ubigeo['Ubigeo'].astype(str).str.zfill(6)\n",
    "tabla_ubigeo.to_csv('tabla_ubigeo.csv', encoding='latin1')\n"
   ]
  },
  {
   "cell_type": "code",
   "execution_count": null,
   "id": "f3fcb682",
   "metadata": {},
   "outputs": [],
   "source": []
  }
 ],
 "metadata": {
  "kernelspec": {
   "display_name": "indicadores_peru",
   "language": "python",
   "name": "python3"
  },
  "language_info": {
   "codemirror_mode": {
    "name": "ipython",
    "version": 3
   },
   "file_extension": ".py",
   "mimetype": "text/x-python",
   "name": "python",
   "nbconvert_exporter": "python",
   "pygments_lexer": "ipython3",
   "version": "3.13.5"
  }
 },
 "nbformat": 4,
 "nbformat_minor": 5
}
