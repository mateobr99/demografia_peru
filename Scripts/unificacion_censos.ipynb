{
 "cells": [
  {
   "cell_type": "code",
   "execution_count": null,
   "id": "03b9a79c",
   "metadata": {},
   "outputs": [],
   "source": [
    "import pandas as pd\n",
    "import os\n",
    "ruta = r\"D:\\Mateo\\ICSI\\Proyecto\\Data\\Raw\\Poblacion\\Data\\Processing\"\n",
    "os.chdir(ruta)\n",
    "df_ubigeo = pd.read_csv('tabla_ubigeo.csv', delimiter=\",\", encoding='latin1')\n",
    "df_censo_1993 = pd.read_csv('pob_censo_edades_sexo_1993.csv', delimiter=\",\", encoding='latin1')\n",
    "df_censo_2005 = pd.read_csv('pob_censo_edades_sexo_2005.csv', delimiter=\",\", encoding='latin1')\n",
    "df_censo_2017 = pd.read_csv('pob_censo_edades_sexo_2017.csv', delimiter=\",\", encoding='latin1')\n",
    "\n",
    "df_censo_2017 = df_censo_2017[['Ubigeo', 'grupo_edad', 'sexo', 'valor', 'Anio']]\n",
    "df_censo_2005 = df_censo_2005[['Ubigeo', 'grupo_edad', 'sexo', 'valor', 'Anio']]\n",
    "df_censo_1993 = df_censo_1993[['Ubigeo', 'grupo_edad', 'sexo', 'valor', 'Anio']]\n",
    "df_ubigeo = df_ubigeo[['Ubigeo', 'Departamento', 'Provincia', 'Distrito']]\n",
    "\n",
    "print(df_ubigeo.shape)\n",
    "print(df_censo_1993.shape)\n",
    "print(df_censo_2005.shape)\n",
    "print(df_censo_2017.shape)"
   ]
  },
  {
   "cell_type": "code",
   "execution_count": null,
   "id": "afe740f3",
   "metadata": {},
   "outputs": [],
   "source": []
  }
 ],
 "metadata": {
  "kernelspec": {
   "display_name": "indicadores_peru",
   "language": "python",
   "name": "python3"
  },
  "language_info": {
   "codemirror_mode": {
    "name": "ipython",
    "version": 3
   },
   "file_extension": ".py",
   "mimetype": "text/x-python",
   "name": "python",
   "nbconvert_exporter": "python",
   "pygments_lexer": "ipython3",
   "version": "3.13.5"
  }
 },
 "nbformat": 4,
 "nbformat_minor": 5
}
